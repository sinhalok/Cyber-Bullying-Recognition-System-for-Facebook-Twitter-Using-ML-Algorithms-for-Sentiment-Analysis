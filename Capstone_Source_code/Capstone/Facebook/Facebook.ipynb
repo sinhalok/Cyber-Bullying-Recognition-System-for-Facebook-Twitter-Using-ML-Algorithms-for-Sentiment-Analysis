{
 "cells": [
  {
   "cell_type": "code",
   "execution_count": 1,
   "id": "7c530f3a",
   "metadata": {},
   "outputs": [],
   "source": [
    "import numpy as np\n",
    "import pandas as pd\n",
    "import nltk\n",
    "from nltk.tokenize import word_tokenize\n",
    "from nltk import pos_tag\n",
    "from nltk.corpus import stopwords\n",
    "from nltk.stem import WordNetLemmatizer\n",
    "from collections import defaultdict\n",
    "from nltk.corpus import wordnet as wn"
   ]
  },
  {
   "cell_type": "code",
   "execution_count": 2,
   "id": "796c1066",
   "metadata": {},
   "outputs": [],
   "source": [
    "import warnings\n",
    "warnings.filterwarnings(\"ignore\")"
   ]
  },
  {
   "cell_type": "code",
   "execution_count": 3,
   "id": "9fe849a0",
   "metadata": {},
   "outputs": [],
   "source": [
    "from textblob import *"
   ]
  },
  {
   "cell_type": "code",
   "execution_count": 4,
   "id": "24952e0b",
   "metadata": {},
   "outputs": [
    {
     "data": {
      "text/html": [
       "<div>\n",
       "<style scoped>\n",
       "    .dataframe tbody tr th:only-of-type {\n",
       "        vertical-align: middle;\n",
       "    }\n",
       "\n",
       "    .dataframe tbody tr th {\n",
       "        vertical-align: top;\n",
       "    }\n",
       "\n",
       "    .dataframe thead th {\n",
       "        text-align: right;\n",
       "    }\n",
       "</style>\n",
       "<table border=\"1\" class=\"dataframe\">\n",
       "  <thead>\n",
       "    <tr style=\"text-align: right;\">\n",
       "      <th></th>\n",
       "      <th>Post</th>\n",
       "      <th>Comment</th>\n",
       "    </tr>\n",
       "    <tr>\n",
       "      <th>Topic</th>\n",
       "      <th></th>\n",
       "      <th></th>\n",
       "    </tr>\n",
       "  </thead>\n",
       "  <tbody>\n",
       "    <tr>\n",
       "      <th>United States presidential election 2016</th>\n",
       "      <td>Former Mexican president slams Trump's 'stupid...</td>\n",
       "      <td>How can any intelligent person believe that Do...</td>\n",
       "    </tr>\n",
       "    <tr>\n",
       "      <th>United States presidential election 2016</th>\n",
       "      <td>Former Mexican president slams Trump's 'stupid...</td>\n",
       "      <td>Pay for the wall or their transport back home.</td>\n",
       "    </tr>\n",
       "    <tr>\n",
       "      <th>United States presidential election 2016</th>\n",
       "      <td>Former Mexican president slams Trump's 'stupid...</td>\n",
       "      <td>would he pay for a smart wall though?</td>\n",
       "    </tr>\n",
       "    <tr>\n",
       "      <th>United States presidential election 2016</th>\n",
       "      <td>Former Mexican president slams Trump's 'stupid...</td>\n",
       "      <td>Hillary thinks saying 'everybody accepts big m...</td>\n",
       "    </tr>\n",
       "    <tr>\n",
       "      <th>United States presidential election 2016</th>\n",
       "      <td>Former Mexican president slams Trump's 'stupid...</td>\n",
       "      <td>Seriously should charge other countries for ch...</td>\n",
       "    </tr>\n",
       "  </tbody>\n",
       "</table>\n",
       "</div>"
      ],
      "text/plain": [
       "                                                                                       Post  \\\n",
       "Topic                                                                                         \n",
       "United States presidential election 2016  Former Mexican president slams Trump's 'stupid...   \n",
       "United States presidential election 2016  Former Mexican president slams Trump's 'stupid...   \n",
       "United States presidential election 2016  Former Mexican president slams Trump's 'stupid...   \n",
       "United States presidential election 2016  Former Mexican president slams Trump's 'stupid...   \n",
       "United States presidential election 2016  Former Mexican president slams Trump's 'stupid...   \n",
       "\n",
       "                                                                                    Comment  \n",
       "Topic                                                                                        \n",
       "United States presidential election 2016  How can any intelligent person believe that Do...  \n",
       "United States presidential election 2016     Pay for the wall or their transport back home.  \n",
       "United States presidential election 2016              would he pay for a smart wall though?  \n",
       "United States presidential election 2016  Hillary thinks saying 'everybody accepts big m...  \n",
       "United States presidential election 2016  Seriously should charge other countries for ch...  "
      ]
     },
     "execution_count": 4,
     "metadata": {},
     "output_type": "execute_result"
    }
   ],
   "source": [
    "trump=pd.read_csv('./trump_comm.csv',encoding='ISO-8859-1',index_col=0)\n",
    "trump.head()"
   ]
  },
  {
   "cell_type": "code",
   "execution_count": 5,
   "id": "7ce4ada5",
   "metadata": {},
   "outputs": [],
   "source": [
    "import re\n",
    "trump['Comment'] = [re.sub('(\\\\W|\\\\d)', \" \",str(text)) for text in trump['Comment']]"
   ]
  },
  {
   "cell_type": "code",
   "execution_count": 6,
   "id": "f41b048f",
   "metadata": {},
   "outputs": [],
   "source": [
    "def get_tweet_sentiment(text): \n",
    "    \n",
    "    analysis = TextBlob(text) \n",
    "    # set sentiment \n",
    "    if analysis.sentiment.polarity > 0: \n",
    "        return('positive')\n",
    "    elif analysis.sentiment.polarity == 0: \n",
    "        return ('neutral')\n",
    "    else: \n",
    "        return ('negative')"
   ]
  },
  {
   "cell_type": "code",
   "execution_count": 7,
   "id": "06f75f68",
   "metadata": {},
   "outputs": [],
   "source": [
    "trump['Sentiment'] = list(map(get_tweet_sentiment,trump['Comment']))"
   ]
  },
  {
   "cell_type": "code",
   "execution_count": 8,
   "id": "a6fb8c00",
   "metadata": {},
   "outputs": [
    {
     "data": {
      "text/plain": [
       "positive    42\n",
       "neutral     42\n",
       "negative    15\n",
       "Name: Sentiment, dtype: int64"
      ]
     },
     "execution_count": 8,
     "metadata": {},
     "output_type": "execute_result"
    }
   ],
   "source": [
    "trump.Sentiment.value_counts()"
   ]
  },
  {
   "cell_type": "code",
   "execution_count": 9,
   "id": "e39d233a",
   "metadata": {},
   "outputs": [
    {
     "data": {
      "text/html": [
       "<div>\n",
       "<style scoped>\n",
       "    .dataframe tbody tr th:only-of-type {\n",
       "        vertical-align: middle;\n",
       "    }\n",
       "\n",
       "    .dataframe tbody tr th {\n",
       "        vertical-align: top;\n",
       "    }\n",
       "\n",
       "    .dataframe thead th {\n",
       "        text-align: right;\n",
       "    }\n",
       "</style>\n",
       "<table border=\"1\" class=\"dataframe\">\n",
       "  <thead>\n",
       "    <tr style=\"text-align: right;\">\n",
       "      <th></th>\n",
       "      <th>Post</th>\n",
       "      <th>Comment</th>\n",
       "      <th>Sentiment</th>\n",
       "    </tr>\n",
       "    <tr>\n",
       "      <th>Topic</th>\n",
       "      <th></th>\n",
       "      <th></th>\n",
       "      <th></th>\n",
       "    </tr>\n",
       "  </thead>\n",
       "  <tbody>\n",
       "    <tr>\n",
       "      <th>United States presidential election 2016</th>\n",
       "      <td>Former Mexican president slams Trump's 'stupid...</td>\n",
       "      <td>How can any intelligent person believe that Do...</td>\n",
       "      <td>positive</td>\n",
       "    </tr>\n",
       "    <tr>\n",
       "      <th>United States presidential election 2016</th>\n",
       "      <td>Former Mexican president slams Trump's 'stupid...</td>\n",
       "      <td>Pay for the wall or their transport back home</td>\n",
       "      <td>neutral</td>\n",
       "    </tr>\n",
       "    <tr>\n",
       "      <th>United States presidential election 2016</th>\n",
       "      <td>Former Mexican president slams Trump's 'stupid...</td>\n",
       "      <td>would he pay for a smart wall though</td>\n",
       "      <td>positive</td>\n",
       "    </tr>\n",
       "    <tr>\n",
       "      <th>United States presidential election 2016</th>\n",
       "      <td>Former Mexican president slams Trump's 'stupid...</td>\n",
       "      <td>Hillary thinks saying  everybody accepts big m...</td>\n",
       "      <td>positive</td>\n",
       "    </tr>\n",
       "    <tr>\n",
       "      <th>United States presidential election 2016</th>\n",
       "      <td>Former Mexican president slams Trump's 'stupid...</td>\n",
       "      <td>Seriously should charge other countries for ch...</td>\n",
       "      <td>negative</td>\n",
       "    </tr>\n",
       "  </tbody>\n",
       "</table>\n",
       "</div>"
      ],
      "text/plain": [
       "                                                                                       Post  \\\n",
       "Topic                                                                                         \n",
       "United States presidential election 2016  Former Mexican president slams Trump's 'stupid...   \n",
       "United States presidential election 2016  Former Mexican president slams Trump's 'stupid...   \n",
       "United States presidential election 2016  Former Mexican president slams Trump's 'stupid...   \n",
       "United States presidential election 2016  Former Mexican president slams Trump's 'stupid...   \n",
       "United States presidential election 2016  Former Mexican president slams Trump's 'stupid...   \n",
       "\n",
       "                                                                                    Comment  \\\n",
       "Topic                                                                                         \n",
       "United States presidential election 2016  How can any intelligent person believe that Do...   \n",
       "United States presidential election 2016     Pay for the wall or their transport back home    \n",
       "United States presidential election 2016              would he pay for a smart wall though    \n",
       "United States presidential election 2016  Hillary thinks saying  everybody accepts big m...   \n",
       "United States presidential election 2016  Seriously should charge other countries for ch...   \n",
       "\n",
       "                                         Sentiment  \n",
       "Topic                                               \n",
       "United States presidential election 2016  positive  \n",
       "United States presidential election 2016   neutral  \n",
       "United States presidential election 2016  positive  \n",
       "United States presidential election 2016  positive  \n",
       "United States presidential election 2016  negative  "
      ]
     },
     "execution_count": 9,
     "metadata": {},
     "output_type": "execute_result"
    }
   ],
   "source": [
    "trump.head()"
   ]
  },
  {
   "cell_type": "code",
   "execution_count": 10,
   "id": "071504d5",
   "metadata": {},
   "outputs": [],
   "source": [
    "trump = trump[['Comment','Sentiment']]"
   ]
  },
  {
   "cell_type": "code",
   "execution_count": 11,
   "id": "d5be9a68",
   "metadata": {},
   "outputs": [
    {
     "data": {
      "text/plain": [
       "(99, 2)"
      ]
     },
     "execution_count": 11,
     "metadata": {},
     "output_type": "execute_result"
    }
   ],
   "source": [
    "trump.shape"
   ]
  },
  {
   "cell_type": "code",
   "execution_count": 12,
   "id": "5541889c",
   "metadata": {},
   "outputs": [
    {
     "data": {
      "text/plain": [
       "Comment      0\n",
       "Sentiment    0\n",
       "dtype: int64"
      ]
     },
     "execution_count": 12,
     "metadata": {},
     "output_type": "execute_result"
    }
   ],
   "source": [
    "trump.isnull().sum()"
   ]
  },
  {
   "cell_type": "code",
   "execution_count": 13,
   "id": "6dbf567f",
   "metadata": {},
   "outputs": [],
   "source": [
    "trump.dropna(inplace=True)"
   ]
  },
  {
   "cell_type": "code",
   "execution_count": 14,
   "id": "e24d4e40",
   "metadata": {},
   "outputs": [
    {
     "data": {
      "text/plain": [
       "Comment      object\n",
       "Sentiment    object\n",
       "dtype: object"
      ]
     },
     "execution_count": 14,
     "metadata": {},
     "output_type": "execute_result"
    }
   ],
   "source": [
    "trump.dtypes"
   ]
  },
  {
   "cell_type": "code",
   "execution_count": 15,
   "id": "181415a3",
   "metadata": {},
   "outputs": [],
   "source": [
    "trump['Sentiment']=trump['Sentiment'].astype(\"category\")"
   ]
  },
  {
   "cell_type": "code",
   "execution_count": 16,
   "id": "8e191179",
   "metadata": {},
   "outputs": [],
   "source": [
    "from sklearn.model_selection import train_test_split\n",
    "from sklearn.feature_extraction.text import TfidfVectorizer\n",
    "from sklearn import model_selection, naive_bayes, svm"
   ]
  },
  {
   "cell_type": "code",
   "execution_count": 17,
   "id": "4b3b3112",
   "metadata": {},
   "outputs": [],
   "source": [
    "train_X, test_X, train_y, test_y = train_test_split(trump['Comment'],trump['Sentiment'],test_size=0.3,random_state=523)"
   ]
  },
  {
   "cell_type": "code",
   "execution_count": 18,
   "id": "9d6ca855",
   "metadata": {},
   "outputs": [
    {
     "name": "stderr",
     "output_type": "stream",
     "text": [
      "[nltk_data] Downloading package stopwords to\n",
      "[nltk_data]     C:\\Users\\BIBEKSINGH\\AppData\\Roaming\\nltk_data...\n",
      "[nltk_data]   Package stopwords is already up-to-date!\n"
     ]
    }
   ],
   "source": [
    "nltk.download('stopwords')\n",
    "stop_words = stopwords.words('english')\n",
    "\n",
    "Tfidf_vect = TfidfVectorizer(min_df=5,max_df=0.8,sublinear_tf=True,use_idf=True)\n",
    "Tfidf_vect.fit(train_X)\n",
    "train_X_Tfidf = Tfidf_vect.transform(train_X)\n",
    "test_X_Tfidf = Tfidf_vect.transform(test_X)"
   ]
  },
  {
   "cell_type": "code",
   "execution_count": 19,
   "id": "0139ff99",
   "metadata": {},
   "outputs": [
    {
     "name": "stdout",
     "output_type": "stream",
     "text": [
      "  (0, 37)\t1.0\n",
      "  (1, 43)\t0.5102877389030758\n",
      "  (1, 38)\t0.5102877389030758\n",
      "  (1, 23)\t0.36435745541740866\n",
      "  (1, 19)\t0.37318909394794875\n",
      "  (1, 12)\t0.45517731917400406\n",
      "  (2, 42)\t0.3389188206379056\n",
      "  (2, 31)\t0.3552797323411173\n",
      "  (2, 17)\t0.38383942009446687\n",
      "  (2, 15)\t0.40651445952350207\n",
      "  (2, 2)\t0.43333333890631603\n",
      "  (2, 1)\t0.5084740465128949\n",
      "  (3, 42)\t0.3577358838446889\n",
      "  (3, 32)\t0.297530042869974\n",
      "  (3, 27)\t0.405150513457704\n",
      "  (3, 19)\t0.7869904525752581\n",
      "  (4, 46)\t0.4599922752025001\n",
      "  (4, 45)\t0.4249885758575888\n",
      "  (4, 42)\t0.3209146934037814\n",
      "  (4, 39)\t0.2146588401338034\n",
      "  (4, 36)\t0.17031965002234703\n",
      "  (4, 31)\t0.19868708442875152\n",
      "  (4, 27)\t0.36344900995481727\n",
      "  (4, 25)\t0.25100509910605623\n",
      "  (4, 17)\t0.2146588401338034\n",
      "  :\t:\n",
      "  (63, 13)\t0.4666183428470576\n",
      "  (63, 8)\t0.2327243163355641\n",
      "  (63, 0)\t0.29745225029631406\n",
      "  (65, 45)\t0.36983683407616635\n",
      "  (65, 40)\t0.3349676144666239\n",
      "  (65, 39)\t0.3162833987209317\n",
      "  (65, 32)\t0.23226877433125584\n",
      "  (65, 31)\t0.2927502371013804\n",
      "  (65, 20)\t0.41898223885629976\n",
      "  (65, 13)\t0.4002980231106076\n",
      "  (65, 3)\t0.41898223885629976\n",
      "  (66, 36)\t0.23137800023998184\n",
      "  (66, 28)\t0.3541511987253275\n",
      "  (66, 27)\t0.291612466074682\n",
      "  (66, 23)\t0.2635273294857137\n",
      "  (66, 14)\t0.3863005279710594\n",
      "  (66, 12)\t0.32921424162152735\n",
      "  (66, 8)\t0.3863005279710594\n",
      "  (66, 5)\t0.2574851563214082\n",
      "  (66, 2)\t0.32921424162152735\n",
      "  (66, 0)\t0.291612466074682\n",
      "  (67, 36)\t0.40388842815196413\n",
      "  (67, 26)\t0.6743178386652188\n",
      "  (67, 4)\t0.6181986655297823\n",
      "  (68, 19)\t1.0\n"
     ]
    }
   ],
   "source": [
    "print(train_X_Tfidf)"
   ]
  },
  {
   "cell_type": "code",
   "execution_count": 20,
   "id": "ff3d2d01",
   "metadata": {},
   "outputs": [
    {
     "data": {
      "text/html": [
       "<div>\n",
       "<style scoped>\n",
       "    .dataframe tbody tr th:only-of-type {\n",
       "        vertical-align: middle;\n",
       "    }\n",
       "\n",
       "    .dataframe tbody tr th {\n",
       "        vertical-align: top;\n",
       "    }\n",
       "\n",
       "    .dataframe thead th {\n",
       "        text-align: right;\n",
       "    }\n",
       "</style>\n",
       "<table border=\"1\" class=\"dataframe\">\n",
       "  <thead>\n",
       "    <tr style=\"text-align: right;\">\n",
       "      <th></th>\n",
       "      <th>and</th>\n",
       "      <th>any</th>\n",
       "      <th>be</th>\n",
       "      <th>can</th>\n",
       "      <th>country</th>\n",
       "      <th>for</th>\n",
       "      <th>former</th>\n",
       "      <th>from</th>\n",
       "      <th>get</th>\n",
       "      <th>going</th>\n",
       "      <th>...</th>\n",
       "      <th>trump</th>\n",
       "      <th>us</th>\n",
       "      <th>wall</th>\n",
       "      <th>we</th>\n",
       "      <th>what</th>\n",
       "      <th>will</th>\n",
       "      <th>with</th>\n",
       "      <th>would</th>\n",
       "      <th>you</th>\n",
       "      <th>your</th>\n",
       "    </tr>\n",
       "  </thead>\n",
       "  <tbody>\n",
       "    <tr>\n",
       "      <th>0</th>\n",
       "      <td>0.000000</td>\n",
       "      <td>0.000000</td>\n",
       "      <td>0.000000</td>\n",
       "      <td>0.0</td>\n",
       "      <td>0.0</td>\n",
       "      <td>0.000000</td>\n",
       "      <td>0.0</td>\n",
       "      <td>0.0</td>\n",
       "      <td>0.0</td>\n",
       "      <td>0.0</td>\n",
       "      <td>...</td>\n",
       "      <td>1.0</td>\n",
       "      <td>0.000000</td>\n",
       "      <td>0.000000</td>\n",
       "      <td>0.0</td>\n",
       "      <td>0.0</td>\n",
       "      <td>0.000000</td>\n",
       "      <td>0.000000</td>\n",
       "      <td>0.0</td>\n",
       "      <td>0.000000</td>\n",
       "      <td>0.000000</td>\n",
       "    </tr>\n",
       "    <tr>\n",
       "      <th>1</th>\n",
       "      <td>0.000000</td>\n",
       "      <td>0.000000</td>\n",
       "      <td>0.000000</td>\n",
       "      <td>0.0</td>\n",
       "      <td>0.0</td>\n",
       "      <td>0.000000</td>\n",
       "      <td>0.0</td>\n",
       "      <td>0.0</td>\n",
       "      <td>0.0</td>\n",
       "      <td>0.0</td>\n",
       "      <td>...</td>\n",
       "      <td>0.0</td>\n",
       "      <td>0.510288</td>\n",
       "      <td>0.000000</td>\n",
       "      <td>0.0</td>\n",
       "      <td>0.0</td>\n",
       "      <td>0.000000</td>\n",
       "      <td>0.510288</td>\n",
       "      <td>0.0</td>\n",
       "      <td>0.000000</td>\n",
       "      <td>0.000000</td>\n",
       "    </tr>\n",
       "    <tr>\n",
       "      <th>2</th>\n",
       "      <td>0.000000</td>\n",
       "      <td>0.508474</td>\n",
       "      <td>0.433333</td>\n",
       "      <td>0.0</td>\n",
       "      <td>0.0</td>\n",
       "      <td>0.000000</td>\n",
       "      <td>0.0</td>\n",
       "      <td>0.0</td>\n",
       "      <td>0.0</td>\n",
       "      <td>0.0</td>\n",
       "      <td>...</td>\n",
       "      <td>0.0</td>\n",
       "      <td>0.000000</td>\n",
       "      <td>0.000000</td>\n",
       "      <td>0.0</td>\n",
       "      <td>0.0</td>\n",
       "      <td>0.338919</td>\n",
       "      <td>0.000000</td>\n",
       "      <td>0.0</td>\n",
       "      <td>0.000000</td>\n",
       "      <td>0.000000</td>\n",
       "    </tr>\n",
       "    <tr>\n",
       "      <th>3</th>\n",
       "      <td>0.000000</td>\n",
       "      <td>0.000000</td>\n",
       "      <td>0.000000</td>\n",
       "      <td>0.0</td>\n",
       "      <td>0.0</td>\n",
       "      <td>0.000000</td>\n",
       "      <td>0.0</td>\n",
       "      <td>0.0</td>\n",
       "      <td>0.0</td>\n",
       "      <td>0.0</td>\n",
       "      <td>...</td>\n",
       "      <td>0.0</td>\n",
       "      <td>0.000000</td>\n",
       "      <td>0.000000</td>\n",
       "      <td>0.0</td>\n",
       "      <td>0.0</td>\n",
       "      <td>0.357736</td>\n",
       "      <td>0.000000</td>\n",
       "      <td>0.0</td>\n",
       "      <td>0.000000</td>\n",
       "      <td>0.000000</td>\n",
       "    </tr>\n",
       "    <tr>\n",
       "      <th>4</th>\n",
       "      <td>0.214659</td>\n",
       "      <td>0.000000</td>\n",
       "      <td>0.000000</td>\n",
       "      <td>0.0</td>\n",
       "      <td>0.0</td>\n",
       "      <td>0.320915</td>\n",
       "      <td>0.0</td>\n",
       "      <td>0.0</td>\n",
       "      <td>0.0</td>\n",
       "      <td>0.0</td>\n",
       "      <td>...</td>\n",
       "      <td>0.0</td>\n",
       "      <td>0.000000</td>\n",
       "      <td>0.214659</td>\n",
       "      <td>0.0</td>\n",
       "      <td>0.0</td>\n",
       "      <td>0.320915</td>\n",
       "      <td>0.000000</td>\n",
       "      <td>0.0</td>\n",
       "      <td>0.424989</td>\n",
       "      <td>0.459992</td>\n",
       "    </tr>\n",
       "  </tbody>\n",
       "</table>\n",
       "<p>5 rows × 47 columns</p>\n",
       "</div>"
      ],
      "text/plain": [
       "        and       any        be  can  country       for  former  from  get  \\\n",
       "0  0.000000  0.000000  0.000000  0.0      0.0  0.000000     0.0   0.0  0.0   \n",
       "1  0.000000  0.000000  0.000000  0.0      0.0  0.000000     0.0   0.0  0.0   \n",
       "2  0.000000  0.508474  0.433333  0.0      0.0  0.000000     0.0   0.0  0.0   \n",
       "3  0.000000  0.000000  0.000000  0.0      0.0  0.000000     0.0   0.0  0.0   \n",
       "4  0.214659  0.000000  0.000000  0.0      0.0  0.320915     0.0   0.0  0.0   \n",
       "\n",
       "   going  ...  trump        us      wall   we  what      will      with  \\\n",
       "0    0.0  ...    1.0  0.000000  0.000000  0.0   0.0  0.000000  0.000000   \n",
       "1    0.0  ...    0.0  0.510288  0.000000  0.0   0.0  0.000000  0.510288   \n",
       "2    0.0  ...    0.0  0.000000  0.000000  0.0   0.0  0.338919  0.000000   \n",
       "3    0.0  ...    0.0  0.000000  0.000000  0.0   0.0  0.357736  0.000000   \n",
       "4    0.0  ...    0.0  0.000000  0.214659  0.0   0.0  0.320915  0.000000   \n",
       "\n",
       "   would       you      your  \n",
       "0    0.0  0.000000  0.000000  \n",
       "1    0.0  0.000000  0.000000  \n",
       "2    0.0  0.000000  0.000000  \n",
       "3    0.0  0.000000  0.000000  \n",
       "4    0.0  0.424989  0.459992  \n",
       "\n",
       "[5 rows x 47 columns]"
      ]
     },
     "execution_count": 20,
     "metadata": {},
     "output_type": "execute_result"
    }
   ],
   "source": [
    "Dense_mat = train_X_Tfidf.todense()\n",
    "Tfidf_Mat = pd.DataFrame(Dense_mat, columns=Tfidf_vect.get_feature_names())\n",
    "# Tfidf_Mat.shape\n",
    "Tfidf_Mat.head()"
   ]
  },
  {
   "cell_type": "code",
   "execution_count": 21,
   "id": "f158d347",
   "metadata": {},
   "outputs": [],
   "source": [
    "from sklearn.metrics import classification_report,accuracy_score, recall_score, precision_score"
   ]
  },
  {
   "cell_type": "code",
   "execution_count": 22,
   "id": "7f239a5d",
   "metadata": {},
   "outputs": [],
   "source": [
    "acc_dict_train = {}\n",
    "acc_dict_test = {}"
   ]
  },
  {
   "cell_type": "code",
   "execution_count": 23,
   "id": "dd5789d8",
   "metadata": {},
   "outputs": [
    {
     "name": "stdout",
     "output_type": "stream",
     "text": [
      "SVM Accuracy Score on Train set ->  82.6086956521739\n",
      "SVM Accuracy Score on Validation set ->  50.0\n"
     ]
    }
   ],
   "source": [
    "# Classifier - Algorithm - SVM\n",
    "# fit the training dataset on the classifier\n",
    "SVM = svm.SVC(kernel='linear')\n",
    "SVM.fit(train_X_Tfidf,train_y)\n",
    "\n",
    "# predict the labels on train dataset\n",
    "pred_train1 = SVM.predict(train_X_Tfidf)\n",
    "\n",
    "# predict the labels on validation dataset\n",
    "pred_test1 = SVM.predict(test_X_Tfidf)\n",
    "\n",
    "# Use accuracy_score function to get the accuracy\n",
    "train_rmse1 = accuracy_score(train_y, pred_train1)*100\n",
    "test_rmse1 = accuracy_score(test_y, pred_test1)*100\n",
    "print(\"SVM Accuracy Score on Train set -> \", train_rmse1)\n",
    "print(\"SVM Accuracy Score on Validation set -> \", test_rmse1)\n",
    "\n",
    "acc_dict_test['SVM'] = accuracy_score(test_y, pred_test1)*100\n",
    "acc_dict_train['SVM'] = accuracy_score(train_y, pred_train1)*100"
   ]
  },
  {
   "cell_type": "code",
   "execution_count": 24,
   "id": "74d42968",
   "metadata": {},
   "outputs": [
    {
     "name": "stdout",
     "output_type": "stream",
     "text": [
      "              precision    recall  f1-score   support\n",
      "\n",
      "    negative       0.00      0.00      0.00         6\n",
      "     neutral       0.50      0.77      0.61        13\n",
      "    positive       0.56      0.45      0.50        11\n",
      "\n",
      "    accuracy                           0.50        30\n",
      "   macro avg       0.35      0.41      0.37        30\n",
      "weighted avg       0.42      0.50      0.45        30\n",
      "\n"
     ]
    }
   ],
   "source": [
    "print(classification_report(test_y,pred_test1))"
   ]
  },
  {
   "cell_type": "code",
   "execution_count": 25,
   "id": "02ba19d7",
   "metadata": {},
   "outputs": [],
   "source": [
    "from sklearn.metrics import precision_score,recall_score,f1_score"
   ]
  },
  {
   "cell_type": "code",
   "execution_count": 26,
   "id": "cbaaceac",
   "metadata": {},
   "outputs": [],
   "source": [
    "metric = defaultdict(list)\n",
    "metric['SVM'].append(precision_score(train_y, pred_train1,average='macro'))\n",
    "metric['SVM'].append(recall_score(train_y, pred_train1,average='macro'))\n",
    "metric['SVM'].append(f1_score(train_y, pred_train1,average='macro'))"
   ]
  },
  {
   "cell_type": "code",
   "execution_count": 27,
   "id": "ecfca965",
   "metadata": {},
   "outputs": [
    {
     "name": "stdout",
     "output_type": "stream",
     "text": [
      "RandomForest Accuracy Score on Train set ->  97.10144927536231\n",
      "RandomForest Accuracy Score on Validation set ->  56.666666666666664\n"
     ]
    }
   ],
   "source": [
    "# Classifier - Algorithm - Random Forest Algorithm\n",
    "\n",
    "#Import Random Forest Model\n",
    "from sklearn.ensemble import RandomForestClassifier\n",
    "Rforest = RandomForestClassifier(n_estimators=100)\n",
    "\n",
    "# fit the training dataset on the classifier\n",
    "Rforest.fit(train_X_Tfidf,train_y)\n",
    "\n",
    "# predict the labels on train dataset\n",
    "pred_train1 = Rforest.predict(train_X_Tfidf)\n",
    "\n",
    "# predict the labels on validation dataset\n",
    "pred_test1 = Rforest.predict(test_X_Tfidf)\n",
    "\n",
    "train_rmse2=accuracy_score(train_y, pred_train1)*100\n",
    "test_rmse2 =accuracy_score(test_y, pred_test1)*100\n",
    "\n",
    "\n",
    "# Use accuracy_score function to get the accuracy\n",
    "print(\"RandomForest Accuracy Score on Train set -> \",train_rmse2 )\n",
    "print(\"RandomForest Accuracy Score on Validation set -> \",test_rmse2)\n",
    "\n",
    "acc_dict_test['RF'] = accuracy_score(test_y, pred_test1)*100\n",
    "acc_dict_train['RF'] = accuracy_score(train_y, pred_train1)*100"
   ]
  },
  {
   "cell_type": "code",
   "execution_count": 28,
   "id": "ee513d8b",
   "metadata": {},
   "outputs": [
    {
     "name": "stdout",
     "output_type": "stream",
     "text": [
      "              precision    recall  f1-score   support\n",
      "\n",
      "    negative       0.50      0.17      0.25         6\n",
      "     neutral       0.62      0.77      0.69        13\n",
      "    positive       0.50      0.55      0.52        11\n",
      "\n",
      "    accuracy                           0.57        30\n",
      "   macro avg       0.54      0.49      0.49        30\n",
      "weighted avg       0.55      0.57      0.54        30\n",
      "\n"
     ]
    }
   ],
   "source": [
    "print(classification_report(test_y,pred_test1))"
   ]
  },
  {
   "cell_type": "code",
   "execution_count": 29,
   "id": "dc756fb1",
   "metadata": {},
   "outputs": [],
   "source": [
    "metric['RF'].append(precision_score(train_y, pred_train1,average='macro'))\n",
    "metric['RF'].append(recall_score(train_y, pred_train1,average='macro'))\n",
    "metric['RF'].append(f1_score(train_y, pred_train1,average='macro'))"
   ]
  },
  {
   "cell_type": "code",
   "execution_count": 30,
   "id": "6e7d3614",
   "metadata": {},
   "outputs": [
    {
     "name": "stdout",
     "output_type": "stream",
     "text": [
      "Naive Bayes Accuracy Score on Train set ->  78.26086956521739\n",
      "Naive Bayes Accuracy Score on Validation set ->  46.666666666666664\n"
     ]
    }
   ],
   "source": [
    "# fit the training dataset on the NB classifier\n",
    "Naive = naive_bayes.MultinomialNB()\n",
    "Naive.fit(train_X_Tfidf,train_y)\n",
    "\n",
    "# predict the labels on train dataset\n",
    "pred_train = Naive.predict(train_X_Tfidf)\n",
    "\n",
    "# predict the labels on validation dataset\n",
    "pred_test = Naive.predict(test_X_Tfidf)\n",
    "\n",
    "train_rmse3=accuracy_score(train_y, pred_train)*100\n",
    "test_rmse3=accuracy_score(test_y, pred_test)*100\n",
    "\n",
    "\n",
    "\n",
    "# Use accuracy_score function to get the accuracy\n",
    "print(\"Naive Bayes Accuracy Score on Train set -> \", train_rmse3)\n",
    "print(\"Naive Bayes Accuracy Score on Validation set -> \",test_rmse3)\n",
    "\n",
    "acc_dict_test['NB'] = accuracy_score(test_y, pred_test)*100\n",
    "acc_dict_train['NB'] = accuracy_score(train_y, pred_train)*100"
   ]
  },
  {
   "cell_type": "code",
   "execution_count": 31,
   "id": "d4b32324",
   "metadata": {},
   "outputs": [
    {
     "name": "stdout",
     "output_type": "stream",
     "text": [
      "              precision    recall  f1-score   support\n",
      "\n",
      "    negative       0.50      0.17      0.25         6\n",
      "     neutral       0.62      0.77      0.69        13\n",
      "    positive       0.50      0.55      0.52        11\n",
      "\n",
      "    accuracy                           0.57        30\n",
      "   macro avg       0.54      0.49      0.49        30\n",
      "weighted avg       0.55      0.57      0.54        30\n",
      "\n"
     ]
    }
   ],
   "source": [
    "print(classification_report(test_y,pred_test1))"
   ]
  },
  {
   "cell_type": "code",
   "execution_count": 32,
   "id": "f3c841df",
   "metadata": {},
   "outputs": [],
   "source": [
    "metric['NB'].append(precision_score(train_y, pred_train,average='macro'))\n",
    "metric['NB'].append(recall_score(train_y, pred_train,average='macro'))\n",
    "metric['NB'].append(f1_score(train_y, pred_train,average='macro'))"
   ]
  },
  {
   "cell_type": "code",
   "execution_count": 33,
   "id": "62d930d9",
   "metadata": {},
   "outputs": [
    {
     "name": "stdout",
     "output_type": "stream",
     "text": [
      "Logistic Regression Accuracy Score on Train set ->  84.05797101449275\n",
      "Logistic Regression Accuracy Score on Validation set ->  53.333333333333336\n"
     ]
    }
   ],
   "source": [
    "# Logistic Regression Algorithm\n",
    "# fit the training dataset on the classifier\n",
    "from sklearn.linear_model import LogisticRegression\n",
    "\n",
    "clf = LogisticRegression(random_state=0).fit(train_X_Tfidf,train_y)\n",
    "\n",
    "clf.score(train_X_Tfidf,train_y)\n",
    "\n",
    "# predict the labels on train dataset\n",
    "pred_train1 = clf.predict(train_X_Tfidf)\n",
    "\n",
    "# predict the labels on validation dataset\n",
    "pred_test1 = clf.predict(test_X_Tfidf)\n",
    "\n",
    "train_rmse4=accuracy_score(train_y, pred_train1)*100\n",
    "test_rmse4=accuracy_score(test_y, pred_test1)*100\n",
    "\n",
    "# Use accuracy_score function to get the accuracy\n",
    "print(\"Logistic Regression Accuracy Score on Train set -> \",train_rmse4 )\n",
    "print(\"Logistic Regression Accuracy Score on Validation set -> \",test_rmse4)\n",
    "\n",
    "acc_dict_test['LG'] = accuracy_score(test_y, pred_test1)*100\n",
    "acc_dict_train['LG'] = accuracy_score(train_y, pred_train1)*100\n"
   ]
  },
  {
   "cell_type": "code",
   "execution_count": 34,
   "id": "1a84f06b",
   "metadata": {},
   "outputs": [
    {
     "name": "stdout",
     "output_type": "stream",
     "text": [
      "              precision    recall  f1-score   support\n",
      "\n",
      "    negative       0.00      0.00      0.00         6\n",
      "     neutral       0.55      0.85      0.67        13\n",
      "    positive       0.50      0.45      0.48        11\n",
      "\n",
      "    accuracy                           0.53        30\n",
      "   macro avg       0.35      0.43      0.38        30\n",
      "weighted avg       0.42      0.53      0.46        30\n",
      "\n"
     ]
    }
   ],
   "source": [
    "print(classification_report(test_y,pred_test1))"
   ]
  },
  {
   "cell_type": "code",
   "execution_count": 35,
   "id": "9b8a6161",
   "metadata": {},
   "outputs": [],
   "source": [
    "metric['LG'].append(precision_score(train_y, pred_train1,average='macro'))\n",
    "metric['LG'].append(recall_score(train_y, pred_train1,average='macro'))\n",
    "metric['LG'].append(f1_score(train_y, pred_train1,average='macro'))"
   ]
  },
  {
   "cell_type": "code",
   "execution_count": 36,
   "id": "89e414af",
   "metadata": {},
   "outputs": [
    {
     "name": "stdout",
     "output_type": "stream",
     "text": [
      "Decision tree Accuracy Score on Train set ->  97.10144927536231\n",
      "Decision tree Accuracy Score on Validation set ->  46.666666666666664\n"
     ]
    }
   ],
   "source": [
    "# Classifier - Algorithm - Decision Tree\n",
    "# fit the training dataset on the classifier\n",
    "from sklearn.tree import DecisionTreeClassifier\n",
    "Dtree = DecisionTreeClassifier(random_state=0)\n",
    "Dtree.fit(train_X_Tfidf,train_y)\n",
    "\n",
    "# predict the labels on train dataset\n",
    "pred_train1 = Dtree.predict(train_X_Tfidf)\n",
    "\n",
    "# predict the labels on validation dataset\n",
    "pred_test1 = Dtree.predict(test_X_Tfidf)\n",
    "\n",
    "train_rmse5=accuracy_score(train_y, pred_train1)*100\n",
    "test_rmse5=accuracy_score(test_y, pred_test1)*100\n",
    "\n",
    "# Use accuracy_score function to get the accuracy\n",
    "print(\"Decision tree Accuracy Score on Train set -> \",train_rmse5 )\n",
    "print(\"Decision tree Accuracy Score on Validation set -> \",test_rmse5)\n",
    "\n",
    "acc_dict_test['DT'] = accuracy_score(test_y, pred_test1)*100\n",
    "acc_dict_train['DT'] = accuracy_score(train_y, pred_train1)*100"
   ]
  },
  {
   "cell_type": "code",
   "execution_count": 37,
   "id": "30eb1f7f",
   "metadata": {},
   "outputs": [
    {
     "name": "stdout",
     "output_type": "stream",
     "text": [
      "              precision    recall  f1-score   support\n",
      "\n",
      "    negative       0.50      0.33      0.40         6\n",
      "     neutral       0.50      0.69      0.58        13\n",
      "    positive       0.38      0.27      0.32        11\n",
      "\n",
      "    accuracy                           0.47        30\n",
      "   macro avg       0.46      0.43      0.43        30\n",
      "weighted avg       0.45      0.47      0.45        30\n",
      "\n"
     ]
    }
   ],
   "source": [
    "print(classification_report(test_y,pred_test1))"
   ]
  },
  {
   "cell_type": "code",
   "execution_count": 38,
   "id": "7034bb34",
   "metadata": {},
   "outputs": [],
   "source": [
    "metric['DT'].append(precision_score(train_y, pred_train1,average='macro'))\n",
    "metric['DT'].append(recall_score(train_y, pred_train1,average='macro'))\n",
    "metric['DT'].append(f1_score(train_y, pred_train1,average='macro'))"
   ]
  },
  {
   "cell_type": "code",
   "execution_count": 39,
   "id": "f58f2986",
   "metadata": {},
   "outputs": [],
   "source": [
    "tmp = pd.DataFrame(dict(metric),index=['precision','recall','f1'])"
   ]
  },
  {
   "cell_type": "code",
   "execution_count": 40,
   "id": "4dae370d",
   "metadata": {},
   "outputs": [],
   "source": [
    "import matplotlib.pyplot as plt"
   ]
  },
  {
   "cell_type": "code",
   "execution_count": 41,
   "id": "2765e992",
   "metadata": {},
   "outputs": [
    {
     "data": {
      "image/png": "[encoded data removed]",
      "text/plain": [
       "<Figure size 1152x432 with 1 Axes>"
      ]
     },
     "metadata": {
      "needs_background": "light"
     },
     "output_type": "display_data"
    }
   ],
   "source": [
    "## Visualization and comparison of metrics for all the models or algorithms\n",
    "ax=tmp.plot(kind='bar',figsize=(16,6),width=0.8)\n",
    "for p in ax.patches:\n",
    "    width = p.get_width()\n",
    "    height = p.get_height()\n",
    "    x, y = p.get_xy() \n",
    "    ax.annotate(f'{height*100:.3}%', (x + width/2, y + height*1.02), ha='center')\n",
    "plt.show()"
   ]
  },
  {
   "cell_type": "code",
   "execution_count": 42,
   "id": "31a044fb",
   "metadata": {},
   "outputs": [
    {
     "name": "stdout",
     "output_type": "stream",
     "text": [
      "RMSE of SVM 32.60869565217391\n",
      "RMSE of Random Forest 40.43478260869565\n",
      "RMSE of Naive Bayes 31.594202898550726\n",
      "RMSE of Logistic Regression 30.724637681159415\n",
      "RMSE of Decision Tree 30.724637681159415\n"
     ]
    }
   ],
   "source": [
    "## RMSE evaluation\n",
    "from sklearn.metrics import mean_squared_error\n",
    "var1 =(mean_squared_error([train_rmse1],[test_rmse1]))\n",
    "var2 =(mean_squared_error([train_rmse2],[test_rmse2]))\n",
    "var3 =(mean_squared_error([train_rmse3],[test_rmse3]))\n",
    "var4 = (mean_squared_error([train_rmse4],[test_rmse4]))\n",
    "var5 = (mean_squared_error([train_rmse4],[test_rmse4]))\n",
    "var1=np.sqrt(var1)\n",
    "var2=np.sqrt(var2)\n",
    "var3=np.sqrt(var3)\n",
    "var4=np.sqrt(var4)\n",
    "var5=np.sqrt(var5)\n",
    "print(\"RMSE of SVM\",var1)\n",
    "print(\"RMSE of Random Forest\",var2)\n",
    "print(\"RMSE of Naive Bayes\",var3)\n",
    "print(\"RMSE of Logistic Regression\",var4)\n",
    "print(\"RMSE of Decision Tree\",var4)"
   ]
  },
  {
   "cell_type": "code",
   "execution_count": 43,
   "id": "6144c6e1",
   "metadata": {
    "scrolled": true
   },
   "outputs": [
    {
     "data": {
      "image/png": "[encoded data removed]",
      "text/plain": [
       "<Figure size 1008x576 with 1 Axes>"
      ]
     },
     "metadata": {
      "needs_background": "light"
     },
     "output_type": "display_data"
    }
   ],
   "source": [
    "## Bar plot of accuracy of different models trained above.\n",
    "x = np.arange(5)  # the label locations\n",
    "width = 0.35\n",
    "fig,ax = plt.subplots(figsize=(14,8))\n",
    "\n",
    "#ax = plt.subplot(121)\n",
    "\n",
    "br = ax.bar(x-width/2,list(acc_dict_train.values()),width, label='train')\n",
    "br2 = ax.bar(x+width/2,list(acc_dict_test.values()),width, label='test')\n",
    "ax.set_xticks((0,1,2,3,4))\n",
    "ax.set_xticklabels(['SVM','RF','NB','LG','DT'])\n",
    "for p in ax.patches:\n",
    "    width = p.get_width()\n",
    "    height = p.get_height()\n",
    "    x, y = p.get_xy() \n",
    "    ax.annotate(f'{height:.4}%', (x + width/2, y + height*1.02), ha='center')\n",
    "ax.legend(loc='upper right')\n",
    "#fig.tight_layout()\n",
    "plt.show()"
   ]
  },
  {
   "cell_type": "code",
   "execution_count": null,
   "id": "cdf73cc6",
   "metadata": {},
   "outputs": [],
   "source": []
  }
 ],
 "metadata": {
  "kernelspec": {
   "display_name": "Python 3",
   "language": "python",
   "name": "python3"
  },
  "language_info": {
   "codemirror_mode": {
    "name": "ipython",
    "version": 3
   },
   "file_extension": ".py",
   "mimetype": "text/x-python",
   "name": "python",
   "nbconvert_exporter": "python",
   "pygments_lexer": "ipython3",
   "version": "3.9.5"
  }
 },
 "nbformat": 4,
 "nbformat_minor": 5
}
